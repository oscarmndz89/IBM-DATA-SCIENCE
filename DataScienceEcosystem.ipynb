{
 "cells": [
  {
   "cell_type": "markdown",
   "id": "b247d557-fa00-4e90-9c2e-c0eebc4d38a5",
   "metadata": {},
   "source": [
    "# Data Science Tools and Ecosystem"
   ]
  },
  {
   "cell_type": "markdown",
   "id": "644aece9-be9a-45b9-bcbf-b53cbaaea00a",
   "metadata": {},
   "source": [
    "In this notebook, Data Science Tools and Ecosystem are summarized."
   ]
  },
  {
   "cell_type": "markdown",
   "id": "76b4eab4-f92e-403d-93c0-1658667e41fb",
   "metadata": {},
   "source": [
    "## **Objectives:**\n",
    "- List of popular languages that Data Scientists\n",
    "- Commonly used libraries used by Data Scientists\n",
    "- Data Scientist Tool Table"
   ]
  },
  {
   "cell_type": "markdown",
   "id": "96bd5ef5-5122-4039-b549-4fe5ac524868",
   "metadata": {},
   "source": [
    "Some of the popular languages that Data Scientists use are:\n",
    "1. Python\n",
    "2. R\n",
    "3. SQL\n",
    "4. Java\n",
    "5. JuliaMATLAB\r\n",
    "SAS"
   ]
  },
  {
   "cell_type": "markdown",
   "id": "03667b6a-bf00-4e0b-a2c0-f33d99fc8f7a",
   "metadata": {},
   "source": [
    "Some of the commonly used libraries used by Data Scientists include:\n",
    "1. Panda\n",
    "2. Numpy\n",
    "3. TensorFlow\n",
    "4. Scipy\n",
    "5. Matplotlib"
   ]
  },
  {
   "cell_type": "markdown",
   "id": "4a6e497c-3518-4654-a0c6-d1c3810c9507",
   "metadata": {},
   "source": [
    "| Data Science Tools |\n",
    "| ------ |\n",
    "| Knime|\n",
    "| Apache Spark |\n",
    "| Scikit |"
   ]
  },
  {
   "cell_type": "markdown",
   "id": "c2d41475-4405-469c-adc4-96edef5024c7",
   "metadata": {},
   "source": [
    "### Below are a few examples of evaluating arithmetic expressions in Python"
   ]
  },
  {
   "cell_type": "code",
   "execution_count": 5,
   "id": "234e56b1-3473-4f6c-af03-f8d71e048e77",
   "metadata": {},
   "outputs": [
    {
     "data": {
      "text/plain": [
       "17"
      ]
     },
     "execution_count": 5,
     "metadata": {},
     "output_type": "execute_result"
    }
   ],
   "source": [
    "# This a simple arithmetic expression to mutiply then add integers\n",
    "(3*4)+5"
   ]
  },
  {
   "cell_type": "code",
   "execution_count": 6,
   "id": "03312c67-03b7-47c6-83d4-05d414d9c52d",
   "metadata": {},
   "outputs": [
    {
     "name": "stdout",
     "output_type": "stream",
     "text": [
      "3\n"
     ]
    }
   ],
   "source": [
    "# This will convert 200 minutes to hours by diving by 60\n",
    "\n",
    "minutes = 200\n",
    "hours = minutes // 60\n",
    "\n",
    "# Print the result\n",
    "print(hours)"
   ]
  },
  {
   "cell_type": "markdown",
   "id": "982cd1dd-bf34-4e4c-82b6-18ab8d8ac6d8",
   "metadata": {},
   "source": [
    "## Author\n",
    "Oscar Mendez"
   ]
  },
  {
   "cell_type": "code",
   "execution_count": null,
   "id": "b9dc642f-43d2-4b2c-8961-e889c49196b4",
   "metadata": {},
   "outputs": [],
   "source": []
  }
 ],
 "metadata": {
  "kernelspec": {
   "display_name": "Python 3 (ipykernel)",
   "language": "python",
   "name": "python3"
  },
  "language_info": {
   "codemirror_mode": {
    "name": "ipython",
    "version": 3
   },
   "file_extension": ".py",
   "mimetype": "text/x-python",
   "name": "python",
   "nbconvert_exporter": "python",
   "pygments_lexer": "ipython3",
   "version": "3.11.7"
  }
 },
 "nbformat": 4,
 "nbformat_minor": 5
}
